{
 "cells": [
  {
   "cell_type": "markdown",
   "metadata": {},
   "source": [
    "# Object Oriented Programming"
   ]
  },
  {
   "cell_type": "markdown",
   "metadata": {},
   "source": [
    "## Agenda\n",
    "2. Describe what a class is in relation to Object Oriented Programming\n",
    "3. Write a class definition, instantiate an object, define/inspect parameters, define/call class methods, define/code __init__ \n",
    "4. Overview of Inheritance\n",
    "5. Important data science tools through the lens of objects: Standard Scaler and one-hot-encoder"
   ]
  },
  {
   "cell_type": "markdown",
   "metadata": {},
   "source": [
    "## 2.  Describe what a class is in relation to Object Oriented Programming"
   ]
  },
  {
   "cell_type": "markdown",
   "metadata": {},
   "source": [
    "Python is an object-oriented programming language. You'll hear people say that \"everything is an object\" in Python. What does this mean?\n",
    "\n",
    "Go back to the idea of a function for a moment. A function is a kind of abstraction whereby an algorithm is made repeatable. So instead of coding:"
   ]
  },
  {
   "cell_type": "code",
   "execution_count": 2,
   "metadata": {},
   "outputs": [
    {
     "name": "stdout",
     "output_type": "stream",
     "text": [
      "19\n",
      "26\n",
      "35\n"
     ]
    }
   ],
   "source": [
    "print(3**2 + 10)\n",
    "print(4**2 + 10)\n",
    "print(5**2 + 10)"
   ]
  },
  {
   "cell_type": "markdown",
   "metadata": {},
   "source": [
    "or even:"
   ]
  },
  {
   "cell_type": "code",
   "execution_count": 3,
   "metadata": {},
   "outputs": [
    {
     "name": "stdout",
     "output_type": "stream",
     "text": [
      "19\n",
      "26\n",
      "35\n"
     ]
    }
   ],
   "source": [
    "for x in range(3, 6):\n",
    "    print(x**2 + 10)"
   ]
  },
  {
   "cell_type": "markdown",
   "metadata": {},
   "source": [
    "I can write:"
   ]
  },
  {
   "cell_type": "code",
   "execution_count": 4,
   "metadata": {},
   "outputs": [],
   "source": [
    "def square_and_add_ten(x):\n",
    "    return x**2 + 10"
   ]
  },
  {
   "cell_type": "markdown",
   "metadata": {},
   "source": [
    "Now imagine a further abstraction: Before, creating a function was about making a certain algorithm available to different inputs. Now I want to make that function available to different **objects**.\n",
    "\n",
    "An object is what we get out of this further abstraction. Each object is an instance of a **class** that defines a bundle of attributes and functions (now, as proprietary to the object type, called *methods*), the point being that **every object of that class will automatically have those proprietary attributes and methods**.\n",
    "\n",
    "A class is like a blueprint that describes how to create a specific type of object.\n",
    "\n",
    "![blueprint](img/blueprint.jpeg)\n",
    "\n",
    "\n",
    "Even Python integers are objects. Consider:"
   ]
  },
  {
   "cell_type": "code",
   "execution_count": 5,
   "metadata": {},
   "outputs": [],
   "source": [
    "x = 3"
   ]
  },
  {
   "cell_type": "markdown",
   "metadata": {},
   "source": [
    "We can see what type of object a variable is with the built-in type operator:"
   ]
  },
  {
   "cell_type": "code",
   "execution_count": 6,
   "metadata": {},
   "outputs": [
    {
     "data": {
      "text/plain": [
       "int"
      ]
     },
     "execution_count": 6,
     "metadata": {},
     "output_type": "execute_result"
    }
   ],
   "source": [
    "type(x)"
   ]
  },
  {
   "cell_type": "markdown",
   "metadata": {},
   "source": [
    "By setting x equal to an integer, I'm imbuing x with the attributes and methods of the integer class."
   ]
  },
  {
   "cell_type": "code",
   "execution_count": 7,
   "metadata": {},
   "outputs": [
    {
     "data": {
      "text/plain": [
       "2"
      ]
     },
     "execution_count": 7,
     "metadata": {},
     "output_type": "execute_result"
    }
   ],
   "source": [
    "x.bit_length()"
   ]
  },
  {
   "cell_type": "code",
   "execution_count": 8,
   "metadata": {},
   "outputs": [
    {
     "data": {
      "text/plain": [
       "3.0"
      ]
     },
     "execution_count": 8,
     "metadata": {},
     "output_type": "execute_result"
    }
   ],
   "source": [
    "x.__float__()"
   ]
  },
  {
   "cell_type": "markdown",
   "metadata": {},
   "source": [
    "For more details on this general feature of Python, see [here](https://jakevdp.github.io/WhirlwindTourOfPython/03-semantics-variables.html)."
   ]
  },
  {
   "cell_type": "markdown",
   "metadata": {},
   "source": [
    "# Exercise"
   ]
  },
  {
   "cell_type": "markdown",
   "metadata": {},
   "source": [
    "## Look up a different type and find either a class or attribute that you did not know existed"
   ]
  },
  {
   "cell_type": "markdown",
   "metadata": {},
   "source": [
    "There is a nice library, inspect, which can be used to look at the different attributes and methods associated with builtin objects.\n"
   ]
  },
  {
   "cell_type": "code",
   "execution_count": 9,
   "metadata": {},
   "outputs": [
    {
     "data": {
      "text/plain": [
       "[('__abs__', <method-wrapper '__abs__' of int object at 0x102d8a5a0>),\n",
       " ('__add__', <method-wrapper '__add__' of int object at 0x102d8a5a0>),\n",
       " ('__and__', <method-wrapper '__and__' of int object at 0x102d8a5a0>),\n",
       " ('__bool__', <method-wrapper '__bool__' of int object at 0x102d8a5a0>),\n",
       " ('__ceil__', <function int.__ceil__>),\n",
       " ('__class__', int),\n",
       " ('__delattr__', <method-wrapper '__delattr__' of int object at 0x102d8a5a0>),\n",
       " ('__dir__', <function int.__dir__()>),\n",
       " ('__divmod__', <method-wrapper '__divmod__' of int object at 0x102d8a5a0>),\n",
       " ('__doc__',\n",
       "  \"int([x]) -> integer\\nint(x, base=10) -> integer\\n\\nConvert a number or string to an integer, or return 0 if no arguments\\nare given.  If x is a number, return x.__int__().  For floating point\\nnumbers, this truncates towards zero.\\n\\nIf x is not a number or if base is given, then x must be a string,\\nbytes, or bytearray instance representing an integer literal in the\\ngiven base.  The literal can be preceded by '+' or '-' and be surrounded\\nby whitespace.  The base defaults to 10.  Valid bases are 0 and 2-36.\\nBase 0 means to interpret the base from the string as an integer literal.\\n>>> int('0b100', base=0)\\n4\"),\n",
       " ('__eq__', <method-wrapper '__eq__' of int object at 0x102d8a5a0>),\n",
       " ('__float__', <method-wrapper '__float__' of int object at 0x102d8a5a0>),\n",
       " ('__floor__', <function int.__floor__>),\n",
       " ('__floordiv__',\n",
       "  <method-wrapper '__floordiv__' of int object at 0x102d8a5a0>),\n",
       " ('__format__', <function int.__format__(format_spec, /)>),\n",
       " ('__ge__', <method-wrapper '__ge__' of int object at 0x102d8a5a0>),\n",
       " ('__getattribute__',\n",
       "  <method-wrapper '__getattribute__' of int object at 0x102d8a5a0>),\n",
       " ('__getnewargs__', <function int.__getnewargs__()>),\n",
       " ('__gt__', <method-wrapper '__gt__' of int object at 0x102d8a5a0>),\n",
       " ('__hash__', <method-wrapper '__hash__' of int object at 0x102d8a5a0>),\n",
       " ('__index__', <method-wrapper '__index__' of int object at 0x102d8a5a0>),\n",
       " ('__init__', <method-wrapper '__init__' of int object at 0x102d8a5a0>),\n",
       " ('__init_subclass__', <function int.__init_subclass__>),\n",
       " ('__int__', <method-wrapper '__int__' of int object at 0x102d8a5a0>),\n",
       " ('__invert__', <method-wrapper '__invert__' of int object at 0x102d8a5a0>),\n",
       " ('__le__', <method-wrapper '__le__' of int object at 0x102d8a5a0>),\n",
       " ('__lshift__', <method-wrapper '__lshift__' of int object at 0x102d8a5a0>),\n",
       " ('__lt__', <method-wrapper '__lt__' of int object at 0x102d8a5a0>),\n",
       " ('__mod__', <method-wrapper '__mod__' of int object at 0x102d8a5a0>),\n",
       " ('__mul__', <method-wrapper '__mul__' of int object at 0x102d8a5a0>),\n",
       " ('__ne__', <method-wrapper '__ne__' of int object at 0x102d8a5a0>),\n",
       " ('__neg__', <method-wrapper '__neg__' of int object at 0x102d8a5a0>),\n",
       " ('__new__', <function int.__new__(*args, **kwargs)>),\n",
       " ('__or__', <method-wrapper '__or__' of int object at 0x102d8a5a0>),\n",
       " ('__pos__', <method-wrapper '__pos__' of int object at 0x102d8a5a0>),\n",
       " ('__pow__', <method-wrapper '__pow__' of int object at 0x102d8a5a0>),\n",
       " ('__radd__', <method-wrapper '__radd__' of int object at 0x102d8a5a0>),\n",
       " ('__rand__', <method-wrapper '__rand__' of int object at 0x102d8a5a0>),\n",
       " ('__rdivmod__', <method-wrapper '__rdivmod__' of int object at 0x102d8a5a0>),\n",
       " ('__reduce__', <function int.__reduce__()>),\n",
       " ('__reduce_ex__', <function int.__reduce_ex__(protocol, /)>),\n",
       " ('__repr__', <method-wrapper '__repr__' of int object at 0x102d8a5a0>),\n",
       " ('__rfloordiv__',\n",
       "  <method-wrapper '__rfloordiv__' of int object at 0x102d8a5a0>),\n",
       " ('__rlshift__', <method-wrapper '__rlshift__' of int object at 0x102d8a5a0>),\n",
       " ('__rmod__', <method-wrapper '__rmod__' of int object at 0x102d8a5a0>),\n",
       " ('__rmul__', <method-wrapper '__rmul__' of int object at 0x102d8a5a0>),\n",
       " ('__ror__', <method-wrapper '__ror__' of int object at 0x102d8a5a0>),\n",
       " ('__round__', <function int.__round__>),\n",
       " ('__rpow__', <method-wrapper '__rpow__' of int object at 0x102d8a5a0>),\n",
       " ('__rrshift__', <method-wrapper '__rrshift__' of int object at 0x102d8a5a0>),\n",
       " ('__rshift__', <method-wrapper '__rshift__' of int object at 0x102d8a5a0>),\n",
       " ('__rsub__', <method-wrapper '__rsub__' of int object at 0x102d8a5a0>),\n",
       " ('__rtruediv__',\n",
       "  <method-wrapper '__rtruediv__' of int object at 0x102d8a5a0>),\n",
       " ('__rxor__', <method-wrapper '__rxor__' of int object at 0x102d8a5a0>),\n",
       " ('__setattr__', <method-wrapper '__setattr__' of int object at 0x102d8a5a0>),\n",
       " ('__sizeof__', <function int.__sizeof__()>),\n",
       " ('__str__', <method-wrapper '__str__' of int object at 0x102d8a5a0>),\n",
       " ('__sub__', <method-wrapper '__sub__' of int object at 0x102d8a5a0>),\n",
       " ('__subclasshook__', <function int.__subclasshook__>),\n",
       " ('__truediv__', <method-wrapper '__truediv__' of int object at 0x102d8a5a0>),\n",
       " ('__trunc__', <function int.__trunc__>),\n",
       " ('__xor__', <method-wrapper '__xor__' of int object at 0x102d8a5a0>),\n",
       " ('bit_length', <function int.bit_length()>),\n",
       " ('conjugate', <function int.conjugate>),\n",
       " ('denominator', 1),\n",
       " ('from_bytes', <function int.from_bytes(bytes, byteorder, *, signed=False)>),\n",
       " ('imag', 0),\n",
       " ('numerator', 1),\n",
       " ('real', 1),\n",
       " ('to_bytes', <function int.to_bytes(length, byteorder, *, signed=False)>)]"
      ]
     },
     "execution_count": 9,
     "metadata": {},
     "output_type": "execute_result"
    }
   ],
   "source": [
    "import inspect\n",
    "\n",
    "example = 1\n",
    "inspect.getmembers(example)"
   ]
  },
  {
   "cell_type": "markdown",
   "metadata": {},
   "source": [
    "Below, there are four different built in types. Each person will get a type.  \n",
    "Use inspect to find methods or attributes that either you:\n",
    "  - didn't know existsed\n",
    "  - forgot existed\n",
    "  - find especially useful"
   ]
  },
  {
   "cell_type": "code",
   "execution_count": 10,
   "metadata": {},
   "outputs": [
    {
     "name": "stdout",
     "output_type": "stream",
     "text": [
      "['Adam' 'Jason' 'Leana'] ['w']\n",
      "['Karim' 'Amanda' 'Chum'] ['x']\n",
      "['Matt' 'Johnhoy' 'Maximilian'] ['y']\n",
      "['Jacob' 'Dann' 'Luluva'] ['z']\n"
     ]
    }
   ],
   "source": [
    "import numpy as np\n",
    "\n",
    "w = [1,2,3]\n",
    "x = {1:1, 2:2}\n",
    "y = 'A string'\n",
    "z = 1.5\n",
    "\n",
    "types = ['w', 'x', 'y', 'z']\n",
    "\n",
    "mccalister = ['Adam', 'Amanda','Chum', 'Dann', \n",
    " 'Jacob', 'Jason', 'Johnhoy', 'Karim', \n",
    "'Leana','Luluva', 'Matt', 'Maximilian', ]\n",
    "\n",
    "while len(mccalister) >= 3:\n",
    "    new_choices = np.random.choice(mccalister, 3, replace=False)\n",
    "    type_choice = np.random.choice(types, 1)\n",
    "    types.remove(type_choice)\n",
    "    print(new_choices, type_choice)\n",
    "    for choice in new_choices:\n",
    "        mccalister.remove(choice)\n"
   ]
  },
  {
   "cell_type": "markdown",
   "metadata": {},
   "source": [
    "# 3. Write a class definition, instantiate an object, define/inspect parameters, define/call class methods "
   ]
  },
  {
   "cell_type": "markdown",
   "metadata": {},
   "source": [
    "## Classes\n",
    "\n",
    "We can define **new** classes of objects altogether by using the keyword `class`:"
   ]
  },
  {
   "cell_type": "code",
   "execution_count": 11,
   "metadata": {},
   "outputs": [],
   "source": [
    "class Car:\n",
    "    \"\"\"Transportation object\"\"\"\n",
    "    pass # This called a stub. It will allow us to create an empty class without and error"
   ]
  },
  {
   "cell_type": "code",
   "execution_count": 12,
   "metadata": {},
   "outputs": [
    {
     "data": {
      "text/plain": [
       "__main__.Car"
      ]
     },
     "execution_count": 12,
     "metadata": {},
     "output_type": "execute_result"
    }
   ],
   "source": [
    "# Instantiate a car object\n",
    "ferrari =  Car()\n",
    "type(ferrari)"
   ]
  },
  {
   "cell_type": "code",
   "execution_count": 13,
   "metadata": {},
   "outputs": [
    {
     "data": {
      "text/plain": [
       "4"
      ]
     },
     "execution_count": 13,
     "metadata": {},
     "output_type": "execute_result"
    }
   ],
   "source": [
    "# We can give desceribe the ferrari as having four wheels\n",
    "\n",
    "ferrari.wheels = 4\n",
    "ferrari.wheels"
   ]
  },
  {
   "cell_type": "code",
   "execution_count": 14,
   "metadata": {},
   "outputs": [],
   "source": [
    "# But wouldn't it be nice to not have to do that every time? \n",
    "# We assume the blueprint of a car will have include the 4 wheels specification\n",
    "# and assign it as an attribute when building the class"
   ]
  },
  {
   "cell_type": "code",
   "execution_count": 15,
   "metadata": {},
   "outputs": [],
   "source": [
    "class Car:\n",
    "    \"\"\"Automotive object\"\"\"\n",
    "    \n",
    "    wheels = 4                      # These are attributes of *every* car.\n"
   ]
  },
  {
   "cell_type": "code",
   "execution_count": 16,
   "metadata": {},
   "outputs": [
    {
     "data": {
      "text/plain": [
       "4"
      ]
     },
     "execution_count": 16,
     "metadata": {},
     "output_type": "execute_result"
    }
   ],
   "source": [
    "civic = Car()\n",
    "civic.wheels"
   ]
  },
  {
   "cell_type": "code",
   "execution_count": 17,
   "metadata": {},
   "outputs": [],
   "source": [
    "#  Then we can add more attributes\n",
    "class Car:\n",
    "    \"\"\"Automotive object\"\"\"\n",
    "    \n",
    "    wheels = 4                      # These are attributes of *every* car.\n",
    "    doors = 4\n"
   ]
  },
  {
   "cell_type": "code",
   "execution_count": 18,
   "metadata": {},
   "outputs": [
    {
     "data": {
      "text/plain": [
       "4"
      ]
     },
     "execution_count": 18,
     "metadata": {},
     "output_type": "execute_result"
    }
   ],
   "source": [
    "ferrari = Car()\n",
    "ferrari.doors"
   ]
  },
  {
   "cell_type": "code",
   "execution_count": 19,
   "metadata": {},
   "outputs": [
    {
     "data": {
      "text/plain": [
       "2"
      ]
     },
     "execution_count": 19,
     "metadata": {},
     "output_type": "execute_result"
    }
   ],
   "source": [
    "# But a ferrari does not have 4 doors! \n",
    "# These attributes can be overwritten \n",
    "\n",
    "ferrari.doors = 2\n",
    "ferrari.doors"
   ]
  },
  {
   "cell_type": "markdown",
   "metadata": {},
   "source": [
    "### Methods"
   ]
  },
  {
   "cell_type": "markdown",
   "metadata": {},
   "source": [
    "We can also write functions that are associated with each class.  \n",
    "As said above, a function associated with a class is called a method."
   ]
  },
  {
   "cell_type": "code",
   "execution_count": 20,
   "metadata": {},
   "outputs": [],
   "source": [
    "#  Then we can add more attributes\n",
    "class Car:\n",
    "    \"\"\"Automotive object\"\"\"\n",
    "    \n",
    "    wheels = 4                      # These are attributes of *every* car.\n",
    "    doors = 4\n",
    "\n",
    "    def honk(self):                   # These are methods we can call on *any* car.\n",
    "        print('Beep beep')\n",
    "    "
   ]
  },
  {
   "cell_type": "code",
   "execution_count": 21,
   "metadata": {},
   "outputs": [
    {
     "name": "stdout",
     "output_type": "stream",
     "text": [
      "Beep beep\n",
      "Beep beep\n"
     ]
    }
   ],
   "source": [
    "ferrari = civic = Car()\n",
    "ferrari.honk()\n",
    "civic.honk()\n"
   ]
  },
  {
   "cell_type": "markdown",
   "metadata": {},
   "source": [
    "Wait a second, what's that `self` doing? "
   ]
  },
  {
   "cell_type": "markdown",
   "metadata": {},
   "source": [
    "## Magic Methods\n",
    "\n",
    "It is common for a class to have magic methods. These are identifiable by the \"dunder\" (i.e. **d**ouble **under**score) prefixes and suffixes, such as `__init__()`. These methods will get called **automatically**, as we'll see below.\n",
    "\n",
    "For more on these \"magic methods\", see [here](https://www.geeksforgeeks.org/dunder-magic-methods-python/)."
   ]
  },
  {
   "cell_type": "markdown",
   "metadata": {},
   "source": [
    "When we create an instance of a class, Python invokes the __init__ to initialize the object.  Let's add __init__ to our class.\n"
   ]
  },
  {
   "cell_type": "code",
   "execution_count": 22,
   "metadata": {},
   "outputs": [],
   "source": [
    "#  Then we can add more attributes\n",
    "class Car:\n",
    "    \"\"\"Automotive object\"\"\"\n",
    "    \n",
    "    WHEELS = 4                      # Capital letters mean wheels is a constant\n",
    "    \n",
    "    def __init__(self, doors, sedan):\n",
    "        \n",
    "        self.doors = doors\n",
    "        self.sedan = sedan\n",
    "        \n",
    "\n",
    "    def honk(self):                   # These are methods we can call on *any* car.\n",
    "        print('Beep beep')\n",
    "    "
   ]
  },
  {
   "cell_type": "markdown",
   "metadata": {},
   "source": [
    "By adding doors and moving to init, we need to pass parameters when instantiating the object."
   ]
  },
  {
   "cell_type": "code",
   "execution_count": 23,
   "metadata": {},
   "outputs": [
    {
     "data": {
      "text/plain": [
       "4"
      ]
     },
     "execution_count": 23,
     "metadata": {},
     "output_type": "execute_result"
    }
   ],
   "source": [
    "civic = Car(4, True)\n",
    "civic.doors"
   ]
  },
  {
   "cell_type": "markdown",
   "metadata": {},
   "source": [
    "We can also pass default arguments if there is a value for a certain parameter which is very common."
   ]
  },
  {
   "cell_type": "code",
   "execution_count": 24,
   "metadata": {},
   "outputs": [],
   "source": [
    "#  Then we can add more attributes\n",
    "class Car:\n",
    "    \"\"\"Automotive object\"\"\"\n",
    "    \n",
    "    WHEELS = 4                     \n",
    "    \n",
    "    # default arguments included now in __init__\n",
    "    def __init__(self, doors=4, sedan=False):\n",
    "        \n",
    "        self.doors = doors\n",
    "        self.sedan = sedan\n",
    "        \n",
    "\n",
    "    def honk(self):                  \n",
    "        print('Beep beep')\n",
    "    "
   ]
  },
  {
   "cell_type": "code",
   "execution_count": 25,
   "metadata": {},
   "outputs": [],
   "source": [
    "civic = Car(sedan=True)"
   ]
  },
  {
   "cell_type": "markdown",
   "metadata": {},
   "source": [
    "#### Positional vs. Named arguments"
   ]
  },
  {
   "cell_type": "code",
   "execution_count": 26,
   "metadata": {},
   "outputs": [],
   "source": [
    "# we can pass our arguments without names\n",
    "civic = Car(4, True)\n",
    "\n"
   ]
  },
  {
   "cell_type": "code",
   "execution_count": 27,
   "metadata": {},
   "outputs": [],
   "source": [
    "# or with names\n",
    "civic = Car(doors=4, sedan=True)\n"
   ]
  },
  {
   "cell_type": "code",
   "execution_count": 28,
   "metadata": {},
   "outputs": [],
   "source": [
    "# or with a mix\n",
    "civic = Car(4, sedan=True)\n"
   ]
  },
  {
   "cell_type": "code",
   "execution_count": 29,
   "metadata": {},
   "outputs": [
    {
     "ename": "SyntaxError",
     "evalue": "positional argument follows keyword argument (<ipython-input-29-6046029021d3>, line 2)",
     "output_type": "error",
     "traceback": [
      "\u001b[0;36m  File \u001b[0;32m\"<ipython-input-29-6046029021d3>\"\u001b[0;36m, line \u001b[0;32m2\u001b[0m\n\u001b[0;31m    civic = Car(doors = 4, True)\u001b[0m\n\u001b[0m                          ^\u001b[0m\n\u001b[0;31mSyntaxError\u001b[0m\u001b[0;31m:\u001b[0m positional argument follows keyword argument\n"
     ]
    }
   ],
   "source": [
    "# but only when positional precides named\n",
    "civic = Car(doors = 4, True)"
   ]
  },
  {
   "cell_type": "code",
   "execution_count": 30,
   "metadata": {},
   "outputs": [],
   "source": [
    "# The self argument allows our methods to update our attributes.\n",
    "\n",
    "#  Then we can add more attributes\n",
    "class Car:\n",
    "    \"\"\"Automotive object\"\"\"\n",
    "    \n",
    "    WHEELS = 4                     \n",
    "    \n",
    "    # default arguments included now in __init__\n",
    "    def __init__(self, doors=4, sedan=False, driver_mood='peaceful'):\n",
    "        \n",
    "        self.doors = doors\n",
    "        self.sedan = sedan\n",
    "        self.driver_mood = driver_mood\n",
    "        \n",
    "\n",
    "    def honk(self):                  \n",
    "        print('Beep beep')\n",
    "        self.driver_mood = 'pissed'\n",
    "    "
   ]
  },
  {
   "cell_type": "code",
   "execution_count": 31,
   "metadata": {},
   "outputs": [
    {
     "name": "stdout",
     "output_type": "stream",
     "text": [
      "peaceful\n",
      "Beep beep\n",
      "pissed\n"
     ]
    }
   ],
   "source": [
    "civic = Car()\n",
    "print(civic.driver_mood)\n",
    "civic.honk()\n",
    "print(civic.driver_mood)"
   ]
  },
  {
   "cell_type": "markdown",
   "metadata": {},
   "source": [
    "# Pair"
   ]
  },
  {
   "cell_type": "markdown",
   "metadata": {},
   "source": [
    " Let's bring our knowledge together, and in pairs, code out the following:\n",
    "\n",
    "We have an attribute `moving` which indicates, with a boolean, whether the car is moving or not.  \n",
    "\n",
    "Fill in the functions stop and go to change the attribute `moving` to reflect the car's present state of motion after the method is called.  Also, include a print statement that indicates the car has started moving or has stopped.\n",
    "\n",
    "Make sure the method works by calling it, then printing the attribute.\n"
   ]
  },
  {
   "cell_type": "code",
   "execution_count": 32,
   "metadata": {},
   "outputs": [],
   "source": [
    "#  Then we can add more attributes\n",
    "class Car:\n",
    "    \"\"\"Automotive object\"\"\"\n",
    "    \n",
    "    # default arguments included now in __init__\n",
    "    def __init__(self, doors=4, sedan=False, driver_mood='peaceful'):\n",
    "        \n",
    "        self.doors = doors\n",
    "        self.sedan = sedan\n",
    "        self.driver_mood = driver_mood\n",
    "        \n",
    "    def honk(self):                   # These are methods we can call on *any* car.\n",
    "        print('Beep beep')\n",
    "        \n",
    "    def go(self):\n",
    "        pass\n",
    "    \n",
    "    def stop(self):\n",
    "        pass"
   ]
  },
  {
   "cell_type": "code",
   "execution_count": 82,
   "metadata": {},
   "outputs": [],
   "source": [
    "#__SOLUTION__\n",
    "class Car:\n",
    "    \"\"\"Automotive object\"\"\"\n",
    "    \n",
    "     # default arguments included now in __init__\n",
    "    def __init__(self, doors=4, sedan=False, driver_mood='peaceful', moving=False):\n",
    "        \n",
    "        self.doors = doors\n",
    "        self.sedan = sedan\n",
    "        self.moving = moving\n",
    "        self.driver_mood = driver_mood\n",
    "\n",
    "    def honk(self):                   # These are methods we can call on *any* car.\n",
    "        print('Beep beep')\n",
    "        \n",
    "    def go(self):\n",
    "        self.moving = True\n",
    "        print('Whoa, that\\'s some acceleration!')\n",
    "    \n",
    "    def stop(self):\n",
    "        self.moving = False\n",
    "        print('Screeech!')"
   ]
  },
  {
   "cell_type": "code",
   "execution_count": 83,
   "metadata": {},
   "outputs": [
    {
     "name": "stdout",
     "output_type": "stream",
     "text": [
      "False\n",
      "Whoa, that's some acceleration!\n",
      "True\n",
      "Screeech!\n",
      "False\n"
     ]
    }
   ],
   "source": [
    "# run this code to make sure your \n",
    "civic = Car()\n",
    "print(civic.moving)\n",
    "\n",
    "civic.go()\n",
    "print(civic.moving)\n",
    "\n",
    "civic.stop()\n",
    "print(civic.moving)"
   ]
  },
  {
   "cell_type": "markdown",
   "metadata": {},
   "source": [
    "## 4. Overview of inheritance\n",
    "\n",
    "We can also define classes in terms of *other* classes, in which cases the new classes **inherit** the attributes and methods from the classes in terms of which they're defined.\n",
    "\n",
    "Suppose we decided we want to create an electric car class."
   ]
  },
  {
   "cell_type": "code",
   "execution_count": 84,
   "metadata": {},
   "outputs": [],
   "source": [
    "#  Then we can add more attributes\n",
    "class ElectricCar(Car):\n",
    "    \"\"\"Automotive object\"\"\"\n",
    "    \n",
    "    # default arguments included now in __init__\n",
    "    def __init__(self, hybrid=False):\n",
    "        super().__init__()\n",
    "        self.hybrid = True "
   ]
  },
  {
   "cell_type": "code",
   "execution_count": 85,
   "metadata": {},
   "outputs": [
    {
     "name": "stdout",
     "output_type": "stream",
     "text": [
      "Beep beep\n"
     ]
    }
   ],
   "source": [
    "prius = ElectricCar()\n",
    "prius.honk()"
   ]
  },
  {
   "cell_type": "code",
   "execution_count": 100,
   "metadata": {},
   "outputs": [],
   "source": [
    "#  And we can overwrite methods and parent attributes\n",
    "class ElectricCar(Car):\n",
    "    \"\"\"Automotive object\"\"\"\n",
    "    \n",
    "    # default arguments included now in __init__\n",
    "    def __init__(self, hybrid=False):\n",
    "        \n",
    "        # Prius owners are calmer than the average car owner\n",
    "        super().__init__(driver_mood='serene')\n",
    "        \n",
    "        self.hybrid = True\n",
    "        \n",
    "    # overwrite inheritd methods\n",
    "    \n",
    "    def go(self):\n",
    "        \n",
    "        print('Whirrrrrr')\n",
    "        self.moving = True"
   ]
  },
  {
   "cell_type": "code",
   "execution_count": 101,
   "metadata": {},
   "outputs": [
    {
     "name": "stdout",
     "output_type": "stream",
     "text": [
      "False\n",
      "Whirrrrrr\n",
      "serene\n"
     ]
    }
   ],
   "source": [
    "prius = ElectricCar()\n",
    "print(prius.moving)\n",
    "prius.go()\n",
    "prius.moving\n",
    "print(prius.driver_mood)"
   ]
  },
  {
   "cell_type": "markdown",
   "metadata": {},
   "source": [
    "## 5. Important data science tools through the lens of objects: \n",
    "\n",
    "We are becomming more and more familiar with a series of methods with names such as fit or fit_transform.\n",
    "\n",
    "After instantiating an instance of a Standard Scaler, Linear Regression model, or One Hot Encoder, we use fit to learn about the dataset and save what is learned. What is learned is saved in the attributes."
   ]
  },
  {
   "cell_type": "markdown",
   "metadata": {},
   "source": [
    "### 1. Standard Scaler \n",
    "\n",
    "The standard scaler takes a series and, for each element, computes the absolute value of the difference from the point to the mean of the series, and divides by the standard deviation.\n",
    "\n",
    "$\\Large z = \\frac{|x - \\mu|}{s}$"
   ]
  },
  {
   "cell_type": "markdown",
   "metadata": {},
   "source": [
    "What attributes and methods are available for a Standard Scaler object? Let's check out the code on [GitHub](https://github.com/scikit-learn/scikit-learn/blob/master/sklearn/preprocessing/_data.py)!\n",
    "\n",
    "## Attributes\n",
    "\n",
    "### `.scale_`"
   ]
  },
  {
   "cell_type": "code",
   "execution_count": 349,
   "metadata": {},
   "outputs": [],
   "source": [
    "from sklearn.preprocessing import StandardScaler\n",
    "\n",
    "# instantiate a standard scaler object\n",
    "ss = StandardScaler()\n",
    "\n",
    "# We can instantiate as many scaler objects as we want\n",
    "maxs_scaler = StandardScaler()"
   ]
  },
  {
   "cell_type": "code",
   "execution_count": 350,
   "metadata": {},
   "outputs": [
    {
     "name": "stdout",
     "output_type": "stream",
     "text": [
      "3.0432788793378815\n",
      "1.0030391214164902\n"
     ]
    }
   ],
   "source": [
    "# Let's create a dataframe with two series\n",
    "\n",
    "series_1 = np.random.normal(3,1,1000)\n",
    "print(series_1.mean())\n",
    "print(series_1.std())"
   ]
  },
  {
   "cell_type": "code",
   "execution_count": 351,
   "metadata": {},
   "outputs": [
    {
     "data": {
      "text/plain": [
       "array([1.00303912])"
      ]
     },
     "execution_count": 351,
     "metadata": {},
     "output_type": "execute_result"
    }
   ],
   "source": [
    "ss.fit(series_1.reshape(-1,1))\n",
    "\n",
    "# standard deviation is saved in the attribute scale_\n",
    "ss.scale_"
   ]
  },
  {
   "cell_type": "code",
   "execution_count": 352,
   "metadata": {},
   "outputs": [
    {
     "data": {
      "text/plain": [
       "array([3.04327888])"
      ]
     },
     "execution_count": 352,
     "metadata": {},
     "output_type": "execute_result"
    }
   ],
   "source": [
    "# mean is saved into the attribut mean\n",
    "ss.mean_"
   ]
  },
  {
   "cell_type": "code",
   "execution_count": 353,
   "metadata": {},
   "outputs": [
    {
     "ename": "ValueError",
     "evalue": "Expected 2D array, got 1D array instead:\narray=[].\nReshape your data either using array.reshape(-1, 1) if your data has a single feature or array.reshape(1, -1) if it contains a single sample.",
     "output_type": "error",
     "traceback": [
      "\u001b[0;31m---------------------------------------------------------------------------\u001b[0m",
      "\u001b[0;31mValueError\u001b[0m                                Traceback (most recent call last)",
      "\u001b[0;32m<ipython-input-353-66adfde57247>\u001b[0m in \u001b[0;36m<module>\u001b[0;34m\u001b[0m\n\u001b[1;32m      3\u001b[0m \u001b[0;31m# What value should I put into the standard scaler to make the equality below return 0\u001b[0m\u001b[0;34m\u001b[0m\u001b[0;34m\u001b[0m\u001b[0;34m\u001b[0m\u001b[0m\n\u001b[1;32m      4\u001b[0m \u001b[0;34m\u001b[0m\u001b[0m\n\u001b[0;32m----> 5\u001b[0;31m \u001b[0mss\u001b[0m\u001b[0;34m.\u001b[0m\u001b[0mtransform\u001b[0m\u001b[0;34m(\u001b[0m\u001b[0;34m[\u001b[0m\u001b[0;34m]\u001b[0m\u001b[0;34m)\u001b[0m\u001b[0;34m\u001b[0m\u001b[0;34m\u001b[0m\u001b[0m\n\u001b[0m",
      "\u001b[0;32m~/anaconda3/lib/python3.7/site-packages/sklearn/preprocessing/_data.py\u001b[0m in \u001b[0;36mtransform\u001b[0;34m(self, X, copy)\u001b[0m\n\u001b[1;32m    793\u001b[0m         X = check_array(X, accept_sparse='csr', copy=copy,\n\u001b[1;32m    794\u001b[0m                         \u001b[0mestimator\u001b[0m\u001b[0;34m=\u001b[0m\u001b[0mself\u001b[0m\u001b[0;34m,\u001b[0m \u001b[0mdtype\u001b[0m\u001b[0;34m=\u001b[0m\u001b[0mFLOAT_DTYPES\u001b[0m\u001b[0;34m,\u001b[0m\u001b[0;34m\u001b[0m\u001b[0;34m\u001b[0m\u001b[0m\n\u001b[0;32m--> 795\u001b[0;31m                         force_all_finite='allow-nan')\n\u001b[0m\u001b[1;32m    796\u001b[0m \u001b[0;34m\u001b[0m\u001b[0m\n\u001b[1;32m    797\u001b[0m         \u001b[0;32mif\u001b[0m \u001b[0msparse\u001b[0m\u001b[0;34m.\u001b[0m\u001b[0missparse\u001b[0m\u001b[0;34m(\u001b[0m\u001b[0mX\u001b[0m\u001b[0;34m)\u001b[0m\u001b[0;34m:\u001b[0m\u001b[0;34m\u001b[0m\u001b[0;34m\u001b[0m\u001b[0m\n",
      "\u001b[0;32m~/anaconda3/lib/python3.7/site-packages/sklearn/utils/validation.py\u001b[0m in \u001b[0;36mcheck_array\u001b[0;34m(array, accept_sparse, accept_large_sparse, dtype, order, copy, force_all_finite, ensure_2d, allow_nd, ensure_min_samples, ensure_min_features, warn_on_dtype, estimator)\u001b[0m\n\u001b[1;32m    554\u001b[0m                     \u001b[0;34m\"Reshape your data either using array.reshape(-1, 1) if \"\u001b[0m\u001b[0;34m\u001b[0m\u001b[0;34m\u001b[0m\u001b[0m\n\u001b[1;32m    555\u001b[0m                     \u001b[0;34m\"your data has a single feature or array.reshape(1, -1) \"\u001b[0m\u001b[0;34m\u001b[0m\u001b[0;34m\u001b[0m\u001b[0m\n\u001b[0;32m--> 556\u001b[0;31m                     \"if it contains a single sample.\".format(array))\n\u001b[0m\u001b[1;32m    557\u001b[0m \u001b[0;34m\u001b[0m\u001b[0m\n\u001b[1;32m    558\u001b[0m         \u001b[0;31m# in the future np.flexible dtypes will be handled like object dtypes\u001b[0m\u001b[0;34m\u001b[0m\u001b[0;34m\u001b[0m\u001b[0;34m\u001b[0m\u001b[0m\n",
      "\u001b[0;31mValueError\u001b[0m: Expected 2D array, got 1D array instead:\narray=[].\nReshape your data either using array.reshape(-1, 1) if your data has a single feature or array.reshape(1, -1) if it contains a single sample."
     ]
    }
   ],
   "source": [
    "# Knowledge Check\n",
    "\n",
    "# What value should I put into the standard scaler to make the equality below return 0\n",
    "\n",
    "ss.transform([])"
   ]
  },
  {
   "cell_type": "code",
   "execution_count": 354,
   "metadata": {},
   "outputs": [
    {
     "data": {
      "text/plain": [
       "array([[0.]])"
      ]
     },
     "execution_count": 354,
     "metadata": {},
     "output_type": "execute_result"
    }
   ],
   "source": [
    "#__SOLUTION__\n",
    "ss.transform([ss.mean_])"
   ]
  },
  {
   "cell_type": "code",
   "execution_count": 355,
   "metadata": {},
   "outputs": [
    {
     "data": {
      "text/plain": [
       "array([3.49671415, 2.8617357 ])"
      ]
     },
     "execution_count": 355,
     "metadata": {},
     "output_type": "execute_result"
    }
   ],
   "source": [
    "# we can then use these attributes to transform objects\n",
    "np.random.seed(42)\n",
    "random_numbers = np.random.normal(3,1, 2)\n",
    "random_numbers"
   ]
  },
  {
   "cell_type": "code",
   "execution_count": 356,
   "metadata": {},
   "outputs": [
    {
     "data": {
      "text/plain": [
       "array([[ 0.4520614 ],\n",
       "       [-0.18099312]])"
      ]
     },
     "execution_count": 356,
     "metadata": {},
     "output_type": "execute_result"
    }
   ],
   "source": [
    "ss.transform(random_numbers.reshape(-1,1))"
   ]
  },
  {
   "cell_type": "code",
   "execution_count": 357,
   "metadata": {},
   "outputs": [
    {
     "data": {
      "text/plain": [
       "array([[ 0.63918361, -1.63325007],\n",
       "       [ 1.53240185,  1.50265028],\n",
       "       [-0.260668  , -1.56258467],\n",
       "       ...,\n",
       "       [ 0.56254398, -1.61544876],\n",
       "       [ 1.40620165, -1.36827099],\n",
       "       [ 0.92178475, -0.56807826]])"
      ]
     },
     "execution_count": 357,
     "metadata": {},
     "output_type": "execute_result"
    }
   ],
   "source": [
    "# We can also use a scaler on a DataFrame\n",
    "series_1 = np.random.normal(3,1,1000)\n",
    "series_2 = np.random.uniform(0,100, 1000)\n",
    "df_2 = pd.DataFrame([series_1, series_2]).T\n",
    "ss_df = StandardScaler()\n",
    "ss_df.fit_transform(df_2)\n"
   ]
  },
  {
   "cell_type": "code",
   "execution_count": 358,
   "metadata": {},
   "outputs": [
    {
     "data": {
      "text/plain": [
       "array([[ 2.01911307, -0.00948621]])"
      ]
     },
     "execution_count": 358,
     "metadata": {},
     "output_type": "execute_result"
    }
   ],
   "source": [
    "ss_df.transform([[5, 50]])"
   ]
  },
  {
   "cell_type": "markdown",
   "metadata": {},
   "source": [
    "## Exercise One-hot Encoder"
   ]
  },
  {
   "cell_type": "markdown",
   "metadata": {},
   "source": [
    "Another object that you will use often is OneHotEncoder from sklearn. It is recommended over pd.get_dummies() because it can trained, with the learned informed stored in the attributes of the object."
   ]
  },
  {
   "cell_type": "code",
   "execution_count": 359,
   "metadata": {},
   "outputs": [],
   "source": [
    "from sklearn.preprocessing import OneHotEncoder"
   ]
  },
  {
   "cell_type": "code",
   "execution_count": 360,
   "metadata": {},
   "outputs": [
    {
     "data": {
      "text/html": [
       "<div>\n",
       "<style scoped>\n",
       "    .dataframe tbody tr th:only-of-type {\n",
       "        vertical-align: middle;\n",
       "    }\n",
       "\n",
       "    .dataframe tbody tr th {\n",
       "        vertical-align: top;\n",
       "    }\n",
       "\n",
       "    .dataframe thead th {\n",
       "        text-align: right;\n",
       "    }\n",
       "</style>\n",
       "<table border=\"1\" class=\"dataframe\">\n",
       "  <thead>\n",
       "    <tr style=\"text-align: right;\">\n",
       "      <th></th>\n",
       "      <th>days</th>\n",
       "      <th>orders</th>\n",
       "    </tr>\n",
       "  </thead>\n",
       "  <tbody>\n",
       "    <tr>\n",
       "      <th>0</th>\n",
       "      <td>su</td>\n",
       "      <td>758</td>\n",
       "    </tr>\n",
       "    <tr>\n",
       "      <th>1</th>\n",
       "      <td>th</td>\n",
       "      <td>105</td>\n",
       "    </tr>\n",
       "    <tr>\n",
       "      <th>2</th>\n",
       "      <td>f</td>\n",
       "      <td>562</td>\n",
       "    </tr>\n",
       "    <tr>\n",
       "      <th>3</th>\n",
       "      <td>su</td>\n",
       "      <td>80</td>\n",
       "    </tr>\n",
       "    <tr>\n",
       "      <th>4</th>\n",
       "      <td>w</td>\n",
       "      <td>132</td>\n",
       "    </tr>\n",
       "  </tbody>\n",
       "</table>\n",
       "</div>"
      ],
      "text/plain": [
       "  days orders\n",
       "0   su    758\n",
       "1   th    105\n",
       "2    f    562\n",
       "3   su     80\n",
       "4    w    132"
      ]
     },
     "execution_count": 360,
     "metadata": {},
     "output_type": "execute_result"
    }
   ],
   "source": [
    "np.random.seed(42)\n",
    "# Let's create a dataframe that has days of the week and number of orders. \n",
    "\n",
    "days = np.random.choice(['m','t', 'w','th','f','s','su'], 1000)\n",
    "orders = np.random.randint(0,1000,1000)\n",
    "\n",
    "df = pd.DataFrame([days, orders]).T\n",
    "df.columns = ['days', 'orders']\n",
    "df.head()"
   ]
  },
  {
   "cell_type": "markdown",
   "metadata": {},
   "source": [
    "Let's interact with an important parameters which we can pass when instantiating the OneHotEncoder object:` drop`.  \n",
    "\n",
    "By dropping column, we avoid the [dummy variable trap](https://en.wikipedia.org/wiki/Dummy_variable_(statistics)).  \n",
    "\n",
    "By passing `drop = True`, sklearn drops the first category it happens upon.  In this case, that is 'su'.  But what if we want to drop 'm'.  We can pass an array like object in as parameter to specify which column to drop.\n",
    "\n",
    "\n"
   ]
  },
  {
   "cell_type": "code",
   "execution_count": 361,
   "metadata": {},
   "outputs": [],
   "source": [
    "# Instantiate the OHE object with a param that tells it to drop Monday\n",
    "ohe = None"
   ]
  },
  {
   "cell_type": "code",
   "execution_count": 362,
   "metadata": {},
   "outputs": [],
   "source": [
    "#__SOLUTION__\n",
    "# Instantiate a OneHotEncoder object\n",
    "\n",
    "ohe = OneHotEncoder(drop=['m'])"
   ]
  },
  {
   "cell_type": "code",
   "execution_count": 363,
   "metadata": {},
   "outputs": [],
   "source": [
    "# Now, fit_transform the days column of the dataframe\n",
    "\n",
    "ohe_array = None"
   ]
  },
  {
   "cell_type": "code",
   "execution_count": 364,
   "metadata": {},
   "outputs": [],
   "source": [
    "#__SOLUTION__\n",
    "ohe_matrix = ohe.fit_transform(df[['days']])"
   ]
  },
  {
   "cell_type": "code",
   "execution_count": 365,
   "metadata": {},
   "outputs": [
    {
     "data": {
      "text/plain": [
       "{'categories': 'auto',\n",
       " 'sparse': True,\n",
       " 'dtype': numpy.float64,\n",
       " 'handle_unknown': 'error',\n",
       " 'drop': array(['m'], dtype=object),\n",
       " 'categories_': [array(['f', 'm', 's', 'su', 't', 'th', 'w'], dtype=object)],\n",
       " 'drop_idx_': array([1])}"
      ]
     },
     "execution_count": 365,
     "metadata": {},
     "output_type": "execute_result"
    }
   ],
   "source": [
    "# look at __dict__ and checkout drop_idx_\n",
    "# did it do what you wanted it to do?\n",
    "ohe.__dict__"
   ]
  },
  {
   "cell_type": "code",
   "execution_count": 366,
   "metadata": {},
   "outputs": [
    {
     "data": {
      "text/plain": [
       "[array(['f', 'm', 's', 'su', 't', 'th', 'w'], dtype=object)]"
      ]
     },
     "execution_count": 366,
     "metadata": {},
     "output_type": "execute_result"
    }
   ],
   "source": [
    "# check out the categories_ attribute\n",
    "ohe.categories_"
   ]
  },
  {
   "cell_type": "code",
   "execution_count": 367,
   "metadata": {},
   "outputs": [
    {
     "data": {
      "text/plain": [
       "<1000x6 sparse matrix of type '<class 'numpy.float64'>'\n",
       "\twith 844 stored elements in Compressed Sparse Row format>"
      ]
     },
     "execution_count": 367,
     "metadata": {},
     "output_type": "execute_result"
    }
   ],
   "source": [
    "# Check out the object itself\n",
    "ohe_matrix"
   ]
  },
  {
   "cell_type": "markdown",
   "metadata": {},
   "source": [
    "It is a sparse matrix, which is a matrix that is composed mostly of zeros"
   ]
  },
  {
   "cell_type": "code",
   "execution_count": 368,
   "metadata": {},
   "outputs": [],
   "source": [
    "# We can convert it to an array like so\n",
    "oh_df = pd.DataFrame.sparse.from_spmatrix(ohe_matrix)"
   ]
  },
  {
   "cell_type": "code",
   "execution_count": 369,
   "metadata": {},
   "outputs": [],
   "source": [
    "# Now, using the categories_ attribute, set the column names to the correct days of the week\n",
    "# you can use drop_idx_ for this as well\n",
    "\n"
   ]
  },
  {
   "cell_type": "code",
   "execution_count": 370,
   "metadata": {},
   "outputs": [
    {
     "data": {
      "text/html": [
       "<div>\n",
       "<style scoped>\n",
       "    .dataframe tbody tr th:only-of-type {\n",
       "        vertical-align: middle;\n",
       "    }\n",
       "\n",
       "    .dataframe tbody tr th {\n",
       "        vertical-align: top;\n",
       "    }\n",
       "\n",
       "    .dataframe thead th {\n",
       "        text-align: right;\n",
       "    }\n",
       "</style>\n",
       "<table border=\"1\" class=\"dataframe\">\n",
       "  <thead>\n",
       "    <tr style=\"text-align: right;\">\n",
       "      <th></th>\n",
       "      <th>f</th>\n",
       "      <th>s</th>\n",
       "      <th>su</th>\n",
       "      <th>t</th>\n",
       "      <th>th</th>\n",
       "      <th>w</th>\n",
       "    </tr>\n",
       "  </thead>\n",
       "  <tbody>\n",
       "    <tr>\n",
       "      <th>0</th>\n",
       "      <td>0.0</td>\n",
       "      <td>0.0</td>\n",
       "      <td>1.0</td>\n",
       "      <td>0.0</td>\n",
       "      <td>0.0</td>\n",
       "      <td>0.0</td>\n",
       "    </tr>\n",
       "    <tr>\n",
       "      <th>1</th>\n",
       "      <td>0.0</td>\n",
       "      <td>0.0</td>\n",
       "      <td>0.0</td>\n",
       "      <td>0.0</td>\n",
       "      <td>1.0</td>\n",
       "      <td>0.0</td>\n",
       "    </tr>\n",
       "    <tr>\n",
       "      <th>2</th>\n",
       "      <td>1.0</td>\n",
       "      <td>0.0</td>\n",
       "      <td>0.0</td>\n",
       "      <td>0.0</td>\n",
       "      <td>0.0</td>\n",
       "      <td>0.0</td>\n",
       "    </tr>\n",
       "    <tr>\n",
       "      <th>3</th>\n",
       "      <td>0.0</td>\n",
       "      <td>0.0</td>\n",
       "      <td>1.0</td>\n",
       "      <td>0.0</td>\n",
       "      <td>0.0</td>\n",
       "      <td>0.0</td>\n",
       "    </tr>\n",
       "    <tr>\n",
       "      <th>4</th>\n",
       "      <td>0.0</td>\n",
       "      <td>0.0</td>\n",
       "      <td>0.0</td>\n",
       "      <td>0.0</td>\n",
       "      <td>0.0</td>\n",
       "      <td>1.0</td>\n",
       "    </tr>\n",
       "  </tbody>\n",
       "</table>\n",
       "</div>"
      ],
      "text/plain": [
       "     f    s   su    t   th    w\n",
       "0  0.0  0.0  1.0  0.0  0.0  0.0\n",
       "1  0.0  0.0  0.0  0.0  1.0  0.0\n",
       "2  1.0  0.0  0.0  0.0  0.0  0.0\n",
       "3  0.0  0.0  1.0  0.0  0.0  0.0\n",
       "4  0.0  0.0  0.0  0.0  0.0  1.0"
      ]
     },
     "execution_count": 370,
     "metadata": {},
     "output_type": "execute_result"
    }
   ],
   "source": [
    "#__SOLUTION__\n",
    "ohe_columns = list(ohe.categories_[0])\n",
    "ohe_columns.pop(int(ohe.drop_idx_))\n",
    "oh_df.columns = ohe_columns\n",
    "oh_df.head()\n",
    "oh_df.columns = ohe_columns\n",
    "oh_df.head()"
   ]
  },
  {
   "cell_type": "code",
   "execution_count": 371,
   "metadata": {},
   "outputs": [],
   "source": [
    "# Now, add the onehotencoded columns to the original df, and drop the days column\n"
   ]
  },
  {
   "cell_type": "code",
   "execution_count": 372,
   "metadata": {},
   "outputs": [
    {
     "data": {
      "text/html": [
       "<div>\n",
       "<style scoped>\n",
       "    .dataframe tbody tr th:only-of-type {\n",
       "        vertical-align: middle;\n",
       "    }\n",
       "\n",
       "    .dataframe tbody tr th {\n",
       "        vertical-align: top;\n",
       "    }\n",
       "\n",
       "    .dataframe thead th {\n",
       "        text-align: right;\n",
       "    }\n",
       "</style>\n",
       "<table border=\"1\" class=\"dataframe\">\n",
       "  <thead>\n",
       "    <tr style=\"text-align: right;\">\n",
       "      <th></th>\n",
       "      <th>orders</th>\n",
       "      <th>f</th>\n",
       "      <th>s</th>\n",
       "      <th>su</th>\n",
       "      <th>t</th>\n",
       "      <th>th</th>\n",
       "      <th>w</th>\n",
       "    </tr>\n",
       "  </thead>\n",
       "  <tbody>\n",
       "    <tr>\n",
       "      <th>0</th>\n",
       "      <td>758</td>\n",
       "      <td>0.0</td>\n",
       "      <td>0.0</td>\n",
       "      <td>1.0</td>\n",
       "      <td>0.0</td>\n",
       "      <td>0.0</td>\n",
       "      <td>0.0</td>\n",
       "    </tr>\n",
       "    <tr>\n",
       "      <th>1</th>\n",
       "      <td>105</td>\n",
       "      <td>0.0</td>\n",
       "      <td>0.0</td>\n",
       "      <td>0.0</td>\n",
       "      <td>0.0</td>\n",
       "      <td>1.0</td>\n",
       "      <td>0.0</td>\n",
       "    </tr>\n",
       "    <tr>\n",
       "      <th>2</th>\n",
       "      <td>562</td>\n",
       "      <td>1.0</td>\n",
       "      <td>0.0</td>\n",
       "      <td>0.0</td>\n",
       "      <td>0.0</td>\n",
       "      <td>0.0</td>\n",
       "      <td>0.0</td>\n",
       "    </tr>\n",
       "    <tr>\n",
       "      <th>3</th>\n",
       "      <td>80</td>\n",
       "      <td>0.0</td>\n",
       "      <td>0.0</td>\n",
       "      <td>1.0</td>\n",
       "      <td>0.0</td>\n",
       "      <td>0.0</td>\n",
       "      <td>0.0</td>\n",
       "    </tr>\n",
       "    <tr>\n",
       "      <th>4</th>\n",
       "      <td>132</td>\n",
       "      <td>0.0</td>\n",
       "      <td>0.0</td>\n",
       "      <td>0.0</td>\n",
       "      <td>0.0</td>\n",
       "      <td>0.0</td>\n",
       "      <td>1.0</td>\n",
       "    </tr>\n",
       "  </tbody>\n",
       "</table>\n",
       "</div>"
      ],
      "text/plain": [
       "  orders    f    s   su    t   th    w\n",
       "0    758  0.0  0.0  1.0  0.0  0.0  0.0\n",
       "1    105  0.0  0.0  0.0  0.0  1.0  0.0\n",
       "2    562  1.0  0.0  0.0  0.0  0.0  0.0\n",
       "3     80  0.0  0.0  1.0  0.0  0.0  0.0\n",
       "4    132  0.0  0.0  0.0  0.0  0.0  1.0"
      ]
     },
     "execution_count": 372,
     "metadata": {},
     "output_type": "execute_result"
    }
   ],
   "source": [
    "#__SOLUTION__\n",
    "# Now, add the onehotencoded columns to the original df, and drop the days column\n",
    "\n",
    "df = df.join(oh_df).drop('days', axis=1)\n",
    "df.head()"
   ]
  }
 ],
 "metadata": {
  "kernelspec": {
   "display_name": "Python 3",
   "language": "python",
   "name": "python3"
  },
  "language_info": {
   "codemirror_mode": {
    "name": "ipython",
    "version": 3
   },
   "file_extension": ".py",
   "mimetype": "text/x-python",
   "name": "python",
   "nbconvert_exporter": "python",
   "pygments_lexer": "ipython3",
   "version": "3.7.3"
  }
 },
 "nbformat": 4,
 "nbformat_minor": 4
}
